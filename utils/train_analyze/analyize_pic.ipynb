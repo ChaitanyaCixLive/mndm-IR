{
 "cells": [
  {
   "cell_type": "code",
   "execution_count": 1,
   "metadata": {
    "collapsed": true
   },
   "outputs": [],
   "source": [
    "%matplotlib inline\n",
    "import matplotlib.pyplot as plt\n",
    "import numpy as np\n",
    "import seaborn as sns"
   ]
  },
  {
   "cell_type": "code",
   "execution_count": 2,
   "metadata": {
    "collapsed": false
   },
   "outputs": [
    {
     "name": "stdout",
     "output_type": "stream",
     "text": [
      "25888\n",
      "25882\n"
     ]
    }
   ],
   "source": [
    "def get_name2feat():\n",
    "    names = np.load('train_filename.npy').tolist()\n",
    "    feats = np.load('train_feature_ap.npy')\n",
    "    name2feat={}\n",
    "    for i,name in enumerate(names):\n",
    "        name2feat[name]=feats[i]\n",
    "    return names,name2feat\n",
    "names,name2feat = get_name2feat()\n",
    "print len(names)\n",
    "print len(name2feat.keys())"
   ]
  },
  {
   "cell_type": "code",
   "execution_count": 3,
   "metadata": {
    "collapsed": false
   },
   "outputs": [
    {
     "name": "stdout",
     "output_type": "stream",
     "text": [
      "3997\n"
     ]
    }
   ],
   "source": [
    "# item 2 names\n",
    "Item={}\n",
    "for name in names:\n",
    "    idx = name.split('/')[-2]\n",
    "    if idx not in Item:\n",
    "        Item[idx]=[]\n",
    "    Item[idx].append(name)\n",
    "def get_mean(item_names):\n",
    "    return np.mean([name2feat[n] for n in item_names],axis=0)\n",
    "# item 2 vector\n",
    "vector={}\n",
    "for item in Item:\n",
    "    vector[item]=get_mean(Item[item])\n",
    "print len(vector.keys())"
   ]
  },
  {
   "cell_type": "markdown",
   "metadata": {
    "collapsed": false
   },
   "source": [
    "## 随机选择一个Item看看最近的都是啥"
   ]
  },
  {
   "cell_type": "code",
   "execution_count": 35,
   "metadata": {
    "collapsed": false
   },
   "outputs": [],
   "source": [
    "select = vector.keys()[:20][4]\n",
    "#select = 'id_00006364'\n",
    "all_items = vector.keys()\n",
    "# 计算最近邻\n",
    "from scipy.spatial import distance"
   ]
  },
  {
   "cell_type": "code",
   "execution_count": 36,
   "metadata": {
    "collapsed": false
   },
   "outputs": [],
   "source": [
    "all_dist = [distance.euclidean(vector[select],vector[itm]) for itm in all_items]\n",
    "idxs = np.argsort(np.array(all_dist))"
   ]
  },
  {
   "cell_type": "markdown",
   "metadata": {},
   "source": [
    "### 其实还挺相似的"
   ]
  },
  {
   "cell_type": "code",
   "execution_count": 37,
   "metadata": {
    "collapsed": false
   },
   "outputs": [
    {
     "data": {
      "text/plain": [
       "[['WOMEN', 'Skirts', 'id_00006362'],\n",
       " ['WOMEN', 'Skirts', 'id_00007352'],\n",
       " ['WOMEN', 'Tees_Tanks', 'id_00006101'],\n",
       " ['WOMEN', 'Blouses_Shirts', 'id_00005496'],\n",
       " ['WOMEN', 'Tees_Tanks', 'id_00002300'],\n",
       " ['WOMEN', 'Shorts', 'id_00007890']]"
      ]
     },
     "execution_count": 37,
     "metadata": {},
     "output_type": "execute_result"
    }
   ],
   "source": [
    "[(Item[all_items[idx]][0].split('/')[1:4]) for idx in idxs[:6]]"
   ]
  },
  {
   "cell_type": "markdown",
   "metadata": {},
   "source": [
    "### 用其中一个图片试试"
   ]
  },
  {
   "cell_type": "code",
   "execution_count": 38,
   "metadata": {
    "collapsed": false
   },
   "outputs": [
    {
     "name": "stdout",
     "output_type": "stream",
     "text": [
      "img/WOMEN/Skirts/id_00006362/03_7_additional.jpg\n",
      "(25888,)\n"
     ]
    }
   ],
   "source": [
    "sel_pic = np.random.choice(Item[select])\n",
    "print sel_pic\n",
    "pic_dist = all_dist = [distance.euclidean(name2feat[sel_pic],name2feat[n]) for n in names]\n",
    "pic_idxs = np.argsort(np.array(all_dist))\n",
    "print pic_idxs.shape"
   ]
  },
  {
   "cell_type": "code",
   "execution_count": 39,
   "metadata": {
    "collapsed": false
   },
   "outputs": [
    {
     "data": {
      "text/plain": [
       "['img/WOMEN/Skirts/id_00006362/03_7_additional.jpg',\n",
       " 'img/WOMEN/Tees_Tanks/id_00004832/07_7_additional.jpg',\n",
       " 'img/WOMEN/Dresses/id_00005868/02_3_back.jpg',\n",
       " 'img/WOMEN/Tees_Tanks/id_00001220/02_3_back.jpg',\n",
       " 'img/WOMEN/Skirts/id_00007244/06_3_back.jpg',\n",
       " 'img/WOMEN/Skirts/id_00005635/28_3_back.jpg']"
      ]
     },
     "execution_count": 39,
     "metadata": {},
     "output_type": "execute_result"
    }
   ],
   "source": [
    "[names[idx] for idx in pic_idxs[:6]]"
   ]
  },
  {
   "cell_type": "markdown",
   "metadata": {},
   "source": [
    "### 采用单个图片查询的话，会有很多错误的东西。[这些应该很有代表性]\n",
    "==> 下次这样操作吧。"
   ]
  }
 ],
 "metadata": {
  "kernelspec": {
   "display_name": "Python [Root]",
   "language": "python",
   "name": "Python [Root]"
  },
  "language_info": {
   "codemirror_mode": {
    "name": "ipython",
    "version": 2
   },
   "file_extension": ".py",
   "mimetype": "text/x-python",
   "name": "python",
   "nbconvert_exporter": "python",
   "pygments_lexer": "ipython2",
   "version": "2.7.12"
  }
 },
 "nbformat": 4,
 "nbformat_minor": 0
}
